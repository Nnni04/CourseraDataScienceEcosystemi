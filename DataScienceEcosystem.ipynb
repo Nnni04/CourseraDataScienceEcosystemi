{
 "cells": [
  {
   "cell_type": "markdown",
   "id": "0b2c0ccd-a15e-4f77-8de9-762ffdfc5cea",
   "metadata": {},
   "source": [
    "# Data Science Tools and Ecosystem "
   ]
  },
  {
   "cell_type": "markdown",
   "id": "25866fe9-d303-4b20-b594-f824d71e0d03",
   "metadata": {},
   "source": [
    "## In this notebook, Data Science Tools and Ecosystem are summarized."
   ]
  },
  {
   "cell_type": "markdown",
   "id": "13422ec4-5a18-46d4-9b31-81b271523215",
   "metadata": {
    "jp-MarkdownHeadingCollapsed": true
   },
   "source": [
    "## Some of the popular languages that Data Scientists use are:\n",
    "\n",
    "# * 1.Python\n",
    "# * 2.R language\n",
    "# * 3.Java"
   ]
  },
  {
   "cell_type": "markdown",
   "id": "fab1276e-2920-4ca8-9a96-1f7dc679744f",
   "metadata": {},
   "source": [
    "## Some of the commonly used libraries used by Data Scientists include:\n",
    "\n",
    "# * 1.Pandas\n",
    "# * 2.Numpy\n",
    "# * 3.Matplotlib"
   ]
  },
  {
   "cell_type": "markdown",
   "id": "e1bb0d79-d97f-43a0-ae3c-31900a84fd33",
   "metadata": {},
   "source": [
    "|Data science tool| \n",
    "|-----------------|\n",
    "| JupyterLab/Jupyter Notebook |\n",
    "|RStudio |\n",
    "|VS Code with Python extensions|"
   ]
  },
  {
   "cell_type": "markdown",
   "id": "03477997-b030-4ba9-8445-18e47526f772",
   "metadata": {},
   "source": [
    "### Below are a few examples of evaluating arithmetic expressions in Python"
   ]
  },
  {
   "cell_type": "code",
   "execution_count": null,
   "id": "4ceadfd6-461f-42fd-9754-ac9baad9430a",
   "metadata": {},
   "outputs": [],
   "source": [
    "# This a simple arithmetic expression to mutiply then add integers\n",
    "(3*4)+5 "
   ]
  },
  {
   "cell_type": "code",
   "execution_count": 27,
   "id": "3a44464a-0e64-45e6-bdfa-8995dece6b44",
   "metadata": {},
   "outputs": [
    {
     "name": "stdout",
     "output_type": "stream",
     "text": [
      "200 minutes is equal to 3.3333333333333335 hours\n"
     ]
    }
   ],
   "source": [
    "# This will convert 200 minutes to hours by dividing by 60\n",
    "minutes = 200\n",
    "hours = minutes / 60\n",
    "print(f\"{minutes} minutes is equal to {hours} hours\")"
   ]
  },
  {
   "cell_type": "markdown",
   "id": "6ed9303a-c390-4d01-b2c3-f45cfcbb9f25",
   "metadata": {},
   "source": [
    "# Objectives\n",
    "\n",
    "# **Objectives:**\n",
    "\n",
    "# * List popular languages for Data Science\n",
    "# * Identify commonly used libraries in Data Science\n",
    "# * Explore Data Science development environment tools"
   ]
  },
  {
   "cell_type": "markdown",
   "id": "12aec189-dd73-482d-806e-81990fccaab1",
   "metadata": {},
   "source": [
    "## Author \n",
    "Daniel Ni"
   ]
  }
 ],
 "metadata": {
  "kernelspec": {
   "display_name": "Python [conda env:base] *",
   "language": "python",
   "name": "conda-base-py"
  },
  "language_info": {
   "codemirror_mode": {
    "name": "ipython",
    "version": 3
   },
   "file_extension": ".py",
   "mimetype": "text/x-python",
   "name": "python",
   "nbconvert_exporter": "python",
   "pygments_lexer": "ipython3",
   "version": "3.12.7"
  }
 },
 "nbformat": 4,
 "nbformat_minor": 5
}
