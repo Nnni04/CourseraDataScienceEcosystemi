{
 "cells": [
  {
   "cell_type": "markdown",
   "id": "0b2c0ccd-a15e-4f77-8de9-762ffdfc5cea",
   "metadata": {},
   "source": [
    "# Data Science Tools and Ecosystem \n",
    "## In this notebook, Data Science Tools and Ecosystem are summarized."
   ]
  },
  {
   "cell_type": "markdown",
   "id": "13422ec4-5a18-46d4-9b31-81b271523215",
   "metadata": {},
   "source": [
    "## Some of the commonly used libraries used by Data Scientists include:"
   ]
  },
  {
   "cell_type": "markdown",
   "id": "e1bb0d79-d97f-43a0-ae3c-31900a84fd33",
   "metadata": {},
   "source": [
    "|Data science tool| \n",
    "|-----------------|\n",
    "| JupyterLab/Jupyter Notebook |\n",
    "|RStudio |\n",
    "|VS Code with Python extensions|"
   ]
  },
  {
   "cell_type": "code",
   "execution_count": null,
   "id": "ba2d8735-add9-4290-b71d-09dbe6dd4ced",
   "metadata": {},
   "outputs": [],
   "source": [
    "## Below are a few examples of evaluating arithmetic expressions in Python"
   ]
  },
  {
   "cell_type": "code",
   "execution_count": null,
   "id": "4ceadfd6-461f-42fd-9754-ac9baad9430a",
   "metadata": {},
   "outputs": [],
   "source": [
    "# This a simple arithmetic expression to mutiply then add integers\n",
    "(3*4)+5 "
   ]
  },
  {
   "cell_type": "code",
   "execution_count": null,
   "id": "3a44464a-0e64-45e6-bdfa-8995dece6b44",
   "metadata": {},
   "outputs": [],
   "source": [
    "# This will convert 200 minutes to hours by dividing by 60\n",
    "minutes = 200\n",
    "hours = minutes / 60\n",
    "print(f\"{minutes} minutes is equal to {hours} hours\")"
   ]
  },
  {
   "cell_type": "code",
   "execution_count": 21,
   "id": "f59abe97-7b27-430c-a435-c5b841d0f312",
   "metadata": {},
   "outputs": [],
   "source": [
    "# Objectives\n",
    "\n",
    "# Objectives:\n",
    "\n",
    "# * List popular languages for Data Science\n",
    "# * Identify commonly used libraries in Data Science\n",
    "# * Explore Data Science development environment tools"
   ]
  },
  {
   "cell_type": "markdown",
   "id": "12aec189-dd73-482d-806e-81990fccaab1",
   "metadata": {},
   "source": [
    "## Author \n",
    "Daniel Ni"
   ]
  }
 ],
 "metadata": {
  "kernelspec": {
   "display_name": "Python [conda env:base] *",
   "language": "python",
   "name": "conda-base-py"
  },
  "language_info": {
   "codemirror_mode": {
    "name": "ipython",
    "version": 3
   },
   "file_extension": ".py",
   "mimetype": "text/x-python",
   "name": "python",
   "nbconvert_exporter": "python",
   "pygments_lexer": "ipython3",
   "version": "3.12.7"
  }
 },
 "nbformat": 4,
 "nbformat_minor": 5
}
